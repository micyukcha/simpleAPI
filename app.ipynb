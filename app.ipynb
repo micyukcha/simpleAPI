{
 "cells": [
  {
   "cell_type": "code",
   "execution_count": null,
   "metadata": {
    "collapsed": true
   },
   "outputs": [],
   "source": [
    "#https://uoa-eresearch.github.io/eresearch-cookbook/recipe/2014/11/20/conda/"
   ]
  },
  {
   "cell_type": "code",
   "execution_count": null,
   "metadata": {
    "collapsed": true
   },
   "outputs": [],
   "source": [
    "from flask import Flask, request\n",
    "from flask_restful import Resource, Api\n",
    "from sqlalchemy import create_engine\n",
    "from json import dumps"
   ]
  },
  {
   "cell_type": "code",
   "execution_count": null,
   "metadata": {
    "collapsed": true
   },
   "outputs": [],
   "source": [
    "#create a engine for connecting to SQLite3\n",
    "#assuming salaries.db\n",
    "\n",
    "e = create_engine('sqlite:///salaries.db')\n",
    "\n",
    "app = Falsk(__name__)\n",
    "api = Api(app)\n",
    "\n",
    "class Departments_Meta(Resource):\n",
    "    def get(self):\n",
    "        \n",
    "        #Connect to DB\n",
    "        conn = e.connect()\n",
    "        \n",
    "        #Perform query and return JSON\n",
    "        query = conn.execute(\"select distinct DEPARTMENT from salaries\")\n",
    "        return {'departments': [i[0] for i in query.cursor.fetchall()]}\n",
    "    \n",
    "class Departmental_Salary(Resource):\n",
    "    def get(self, department_name):\n",
    "        conn = e.connect()\n",
    "        query = conn.execute(\"select * from salaries where Department='%s'\"%department_name.upper())\n",
    "        \n",
    "        #Query the result and get cursor. Dump data to JSON is looked by extension\n",
    "        result = {'data':[dict(zip(tuple(query.keys()), i)) for i in query.cursor]}\n",
    "        return result\n",
    "    \n",
    "    api.add_resource(Departmental_Salary, '/dept/<string:department_name>')\n",
    "    api.add_resource(Departments_Meta, '/departments')\n",
    "    \n",
    "    if __name__ == '__main__':\n",
    "        app.run(debug=True)"
   ]
  }
 ],
 "metadata": {
  "kernelspec": {
   "display_name": "Python 2",
   "language": "python",
   "name": "python2"
  },
  "language_info": {
   "codemirror_mode": {
    "name": "ipython",
    "version": 2
   },
   "file_extension": ".py",
   "mimetype": "text/x-python",
   "name": "python",
   "nbconvert_exporter": "python",
   "pygments_lexer": "ipython2",
   "version": "2.7.12"
  }
 },
 "nbformat": 4,
 "nbformat_minor": 0
}
